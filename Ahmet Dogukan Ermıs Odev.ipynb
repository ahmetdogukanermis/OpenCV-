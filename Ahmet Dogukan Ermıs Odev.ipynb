{
 "cells": [
  {
   "cell_type": "markdown",
   "id": "21787356-387c-45ff-82c6-078313f3c7bd",
   "metadata": {},
   "source": [
    "# Web Editörleri Ara Sınav Uygulaması\n",
    "\n",
    "### Talimatlar:\n",
    "* <font color=red>Bilgisayarın Görmesi (Computer Vision)</font> ile ilgili OpenCV kütüphanesinin kullanımını anlatan bir uygulama kılavuzu hazırlayınız.\n",
    "* Klavuzda yer alan başlık ve içerik yapısı aşağıdaki gibi olacaktır.\n",
    "* Dosyayı hazırladıktan sonra Github üzerinde bir hesap açıp, bu dosyayı oraya yükleyip, web adresini bu hücrece verilen yere yazınız.\n",
    "* Bu dosyayı ayrıca DBS üzerinde açılan sınav ödevi etkinliğine yükleyiniz.\n",
    "* Bu dosyayı hazırladıktan sonra DBS'ye yüklerken mutlaka dosya adını değiştirerek Kendi Adınızı yazınız. Github'a yüklerken dosya adını konu başlığı ile değiştiriniz.\n",
    "\n",
    "### Öğrenci Bilgileri\n",
    "\n",
    "Öğrenci bilgilerini yazmak için <u>buraya</u> çift tıklayınız.\n",
    "* Adı Soyadı: AHMET DOĞUKAN ERMİŞ\n",
    "* Öğrenci No: 213302003\n",
    "* Dosyanın Github adresi:https://vscode.dev/profile/github/0b9cbf2360372775f6d07b9a9c1bc693 \n",
    "<br><br><b>Bu hücreyi, hazırladığınız dosyayı Github'a yüklemeden önce siliniz.</b>"
   ]
  },
  {
   "cell_type": "markdown",
   "id": "a90db1ba-6346-456c-b18f-a494c03a7eef",
   "metadata": {},
   "source": [
    "# Computer Vision\n",
    "\n",
    "Computer Vision Nedir?\n",
    "Computer Vision, bilgisayarların dijital görüntülerden veya videolardan anlamlı bilgiler çıkabilme yeteneğidir. Bu, insan görsel sisteminin yapabileceği görevleri taklit ederek, nesneleri tanıma, sınıflandırma, takip etme, sahneleri anlama ve hatta insan eylemlerini yorumlama gibi işlemleri içerir. Computer Vision, mühendislik ve bilgisayar biliminin yanı sıra matematik, fizik ve psikoloji gibi alanları da kapsayan disiplinler arası bir alandır.\n",
    "Computer Vision sistemleri, genellikle üç ana adımdan oluşur:\n",
    "1. Görüntü İşleme: Bu aşamada, ham görüntü verisi işlenir ve gürültü gibi istenmeyen öğelerden arındırılır. Renklerin ve kenarların belirlenmesi gibi temel özellikler de bu aşamada çıkarılır.\n",
    "2. Özellik Çıkarma: Bu aşamada, görüntülerdeki nesneleri ve sahneleri tanımlamak için kullanılan ayırt edici özellikler belirlenir. Bu özellikler, şekil, doku, renk ve hareket gibi unsurları içerebilir.\n",
    "3. Anlamlandırma: Bu aşamada, çıkarılan özellikler yorumlanır ve görüntünün içeriği hakkında anlamlı bilgiler elde edilir. Bu, nesnelerin kimliği ve konumu, sahnedeki ilişkiler ve insan eylemlerinin tanınması gibi bilgileri içerebilir.\n",
    "Computer Vision, tıp, mühendislik, güvenlik, robotik ve eğlence gibi çok çeşitli alanlarda uygulamalara sahiptir. Örneğin, tıp alanında bilgisayarlı görüntü işleme, hastalıkları teşhis etmek ve tedaviyi planlamak için kullanılırken, mühendislikte ürünlerin kalitesini kontrol etmek ve üretim süreçlerini optimize etmek için kullanılır. Güvenlik alanında ise yüz tanıma ve kimlik doğrulama için kullanılırken, robotikte robotların çevrelerini algılamalarına ve nesnelerle etkileşim kurmalarına yardımcı olmak için kullanılır. Eğlence sektöründe ise özel efektler oluşturmak ve oyun deneyimini geliştirmek için kullanılır.\n"
   ]
  },
  {
   "cell_type": "markdown",
   "id": "ebfa1415-77ef-4991-9a36-5cfa1cb92932",
   "metadata": {},
   "source": [
    "### OpenCv Kütüphanesi Kullanımı\n",
    "OpenCv kütüphanesi kullanarak aşağıdaki işlemler yapılabilir:\n",
    "\n",
    "OpenCV, bilgisayarlı görme ve görüntü işleme için açık kaynak kodlu bir kütüphanedir. C++ ve Python gibi birçok programlama dilinde kullanılabilir ve çok çeşitli işlemleri gerçekleştirmek için kullanılabilir. OpenCV'nin yapabileceği bazı temel işlemler şunlardır:\n",
    "\n",
    "Görüntü İşleme:\n",
    "\n",
    "Görüntü okuma ve yazma\n",
    "Görüntüleri görüntüleme\n",
    "Renk uzayları arasında dönüştürme\n",
    "Görüntüleri yeniden boyutlandırma ve kırpma\n",
    "Keskinleştirme, bulanıklaştırma ve kenar bulma gibi filtreler uygulama\n",
    "Eşikleme ve histogram işlemleri\n",
    "Özellik Çıkarma:\n",
    "\n",
    "Nesnelerin kenarlarını ve köşelerini bulma\n",
    "Doku analizi\n",
    "Histogram hesaplama\n",
    "Renk ve şekil gibi nesnelerin özelliklerini tanımlama\n",
    "Nesne Tanıma ve Takibi:\n",
    "\n",
    "Yüz tanıma\n",
    "Nesne sınıflandırma\n",
    "Nesne takibi\n",
    "Hareket analizi\n",
    "Görüntü ve Video Analizi:\n",
    "\n",
    "Optik akış\n",
    "Stereo görüş\n",
    "Panorama oluşturma\n",
    "Görüntüdeki nesnelerin 3D modellemesi\n",
    "Derin Öğrenme:\n",
    "\n",
    "Sinir ağlarını kullanarak görüntülerden öğrenme\n",
    "Nesne algılama\n",
    "Görüntü segmentasyonu\n",
    "Anlamlandırma"
   ]
  },
  {
   "cell_type": "markdown",
   "id": "bf8597a7-af19-4875-9ea5-9fb77b63b804",
   "metadata": {},
   "source": [
    "### 0- Kütüphanenin kurulumu"
   ]
  },
  {
   "cell_type": "code",
   "execution_count": null,
   "id": "cdd6cedb-70b0-4b92-bb7e-406f08523a2e",
   "metadata": {},
   "outputs": [],
   "source": [
    "pip install opencv-python\n",
    "\n",
    "#Kütüphaneyi yüklemek için kullanılır.\n",
    "#Python kütüphanesi yüklenmiş olur."
   ]
  },
  {
   "cell_type": "markdown",
   "id": "db94c321",
   "metadata": {},
   "source": [
    "### 1- Güncelleme Yapma"
   ]
  },
  {
   "cell_type": "code",
   "execution_count": null,
   "id": "5cc6ca5b-4cdb-4c00-bb8f-4f372fe40855",
   "metadata": {},
   "outputs": [],
   "source": [
    "pip install --upgrade \n",
    "\n",
    "#Güncelleme yapmak için kullanı"
   ]
  },
  {
   "cell_type": "markdown",
   "id": "6651c190",
   "metadata": {},
   "source": [
    "### 2- Resim Okuma Ve Gösterme"
   ]
  },
  {
   "cell_type": "code",
   "execution_count": null,
   "id": "1b421299-93ba-4bd3-b834-9b7e6a312c1e",
   "metadata": {},
   "outputs": [],
   "source": [
    "import cv2\n",
    "\n",
    "# Resmi diskten yüklemek için kullanılır\n",
    "image = cv2.imread('dosya_yolu.jpg')\n",
    "\n",
    "# Resmi pencerede göstermek için kullanılır\n",
    "cv2.imshow('Gösterilen Resim', image)\n",
    "\n",
    "# Bir tuşa basılmasını bekler, 0 saniye süresiz bekleme anlamına gelmektedir\n",
    "cv2.waitKey(0)\n",
    "\n",
    "# Tüm açık pencereleri kapatmak için kullanılır\n",
    "cv2.destroyAllWindows()"
   ]
  },
  {
   "cell_type": "markdown",
   "id": "3973f299",
   "metadata": {},
   "source": [
    "### 3.⁠ ⁠Resmi Gri Tonlamaya Çevirme"
   ]
  },
  {
   "cell_type": "code",
   "execution_count": null,
   "id": "780699fa-ba1e-4afe-98ed-cca0059e16de",
   "metadata": {},
   "outputs": [],
   "source": [
    "# Renkli resmi gri tonlama resmine dönüştürmek için kullanılır\n",
    "gray_image = cv2.cvtColor(image, cv2.COLOR_BGR2GRAY)\n",
    "\n",
    "# Gri tonlama resmini göstermek için kullanılır\n",
    "cv2.imshow('Gri Resim', gray_image)\n",
    "cv2.waitKey(0)\n",
    "cv2.destroyAllWindows()"
   ]
  },
  {
   "cell_type": "markdown",
   "id": "a34286e9",
   "metadata": {},
   "source": [
    "### 4.⁠ ⁠Resmi Kaydetme"
   ]
  },
  {
   "cell_type": "code",
   "execution_count": null,
   "id": "f4392b19-df68-4bf0-8974-6baead62cb74",
   "metadata": {},
   "outputs": [],
   "source": [
    "# Gri tonlama resmini diske kaydetmek için kullanılır\n",
    "cv2.imwrite('gri_resim.jpg', gray_image)"
   ]
  },
  {
   "cell_type": "markdown",
   "id": "4c43b907",
   "metadata": {},
   "source": [
    "### 5.⁠ ⁠Resim Üzerine Basit İşlemler"
   ]
  },
  {
   "cell_type": "code",
   "execution_count": null,
   "id": "42a66bc3-468c-44c7-ace2-f83b2d611b61",
   "metadata": {},
   "outputs": [],
   "source": [
    "# Resmi 500x500 piksel olarak yeniden boyutlandırmak için kullanılır\n",
    "resized_image = cv2.resize(image, (500, 500))\n",
    "\n",
    "# Yeniden boyutlandırılmış resmi göstermek için kullanılır\n",
    "cv2.imshow('Yeniden Boyutlandırılmış Resim', resized_image)\n",
    "cv2.waitKey(0)\n",
    "cv2.destroyAllWindows()\n",
    "\n",
    "# Bu bir tupledir, resmin yüksekliğini, genişliğini ve kanal sayısını temsil eden değerleri sırayla içerir.\n",
    "input.shape\n"
   ]
  },
  {
   "cell_type": "markdown",
   "id": "14e59545",
   "metadata": {},
   "source": [
    "### 6.⁠ ⁠Görüntüyü Okuma"
   ]
  },
  {
   "cell_type": "markdown",
   "id": "e417cef7",
   "metadata": {},
   "source": [
    "Bu kod parçası, bir PNG dosyasını yükleyip, onu BGR renk uzayından HSV renk uzayına dönüştürür ve sonra HSV'nin her bir kanalını (Hue, Saturation, Value) ayrı pencerelerde gösterir. Her bir pencere, kullanıcı bir tuşa basana kadar açık kalır. İşte adımların özeti:\n",
    "\n",
    "Resmi Yükleme: \"unnamed.png\" adlı dosyadan bir görüntü yüklenir.\n",
    "\n",
    "Renk Uzayı Dönüşümü: Görüntü, BGR'den HSV renk uzayına çevrilir.\n",
    "\n",
    "HSV Görüntüsünü Gösterme: Tam HSV görüntüsü gösterilir.\n",
    "\n",
    "Hue Kanalını Gösterme: HSV'nin Hue (renk tonu) kanalı gösterilir.\n",
    "\n",
    "Saturation Kanalını Gösterme: HSV'nin Saturation (renk doygunluğu) kanalı gösterilir.\n",
    "\n",
    "Value Kanalını Gösterme: HSV'nin Value (aydınlık değeri) kanalı gösterilir.\n",
    "\n",
    "Her imshow fonksiyonu çağrısından sonra, cv2.waitKey() ile kullanıcının bir tuşa basmasını bekler, bu da görüntüleri tek tek incelemeye olanak tanır.\n",
    "\n"
   ]
  },
  {
   "cell_type": "code",
   "execution_count": null,
   "id": "947cfdb4-7757-408b-a599-bf40a73330b4",
   "metadata": {},
   "outputs": [],
   "source": [
    "# Görüntü dosyasını okumak için kullanılır\n",
    "input = cv2.imread(\"unnamed.png”)\n"
   ]
  },
  {
   "cell_type": "code",
   "execution_count": null,
   "id": "fffc23d4-6bc7-412e-b776-cde8891ec8a7",
   "metadata": {},
   "outputs": [],
   "source": [
    "# Görüntüyü BGR'den HSV'ye dönüştürmek için kullanılır\n",
    "hsv_resim = cv2.cvtColor(input, cv2.COLOR_BGR2HSV)\n"
   ]
  },
  {
   "cell_type": "code",
   "execution_count": null,
   "id": "e2015953",
   "metadata": {},
   "outputs": [],
   "source": [
    "# HSV tonlama görüntüsünü göstermek için kullanılır\n",
    "cv2.imshow(\"HSV Tonlama\", hsv_resim[:, :, :])  \n",
    "\n",
    "# Kullanıcı bir tuşa basana kadar bekle komutudur\n",
    "cv2.waitKey()  \n",
    "\n",
    "# Hue (Ton) kanalını göstermek için kullanılır\n",
    "cv2.imshow(\"Hue Kanalı\", hsv_resim[:, :, 0])  \n",
    "cv2.waitKey()  \n",
    "\n",
    "# Saturation (Doygunluk) kanalını göstermek için kullanılır\n",
    "cv2.imshow(\"Saturation Kanalı\", hsv_resim[:, :, 1])  \n",
    "cv2.waitKey() \n",
    "\n",
    "# Value (Değer) kanalını göstermek için kullanılır\n",
    "cv2.imshow(\"Value Kanalı\", hsv_resim[:, :, 2])  \n",
    "cv2.waitKey()  "
   ]
  },
  {
   "cell_type": "markdown",
   "id": "93c6845c",
   "metadata": {},
   "source": [
    "### 7. Gerçek Zamanlı Resim"
   ]
  },
  {
   "cell_type": "markdown",
   "id": "f8582d9c",
   "metadata": {},
   "source": [
    "Bu kod parçası, OpenCV kütüphanesini kullanarak bir bilgisayarın kamera aracılığıyla canlı görüntü alıp, bu görüntüleri gerçek zamanlı olarak kenar tespit algoritması ile işleyerek bir \"sketch\" (çizim) efekti yaratır. Bu efekt, video akışından alınan her kare üzerinde kenar tespiti yapılmasını içerir.\n",
    "\n",
    "Genel Sistem Özeti:\n",
    "\n",
    "Kamera Açma: Bilgisayarın kamerası açılır.\n",
    "\n",
    "Döngüde Görüntü İşleme: Kamera sürekli olarak kareler okur ve bu kareler gerçek zamanlı olarak işlenir.\n",
    "\n",
    "Kenar Tespiti: Her kare için kenar tespiti uygulanır.\n",
    "\n",
    "Görüntü Gösterme: İşlenmiş kareler gerçek zamanlı olarak gösterilir.\n",
    "\n",
    "Çıkış Mekanizması: Kullanıcı 'Enter' tuşuna basarak döngüden çıkabilir.\n",
    "\n",
    "Kaynakların Serbest Bırakılması: Kamera serbest bırakılır ve tüm OpenCV pencereleri kapatılır.\n",
    "\n"
   ]
  },
  {
   "cell_type": "code",
   "execution_count": null,
   "id": "8dcd8851",
   "metadata": {},
   "outputs": [],
   "source": [
    "import cv2\n",
    "import numpy as np\n",
    "\n",
    "def sketch(image):\n",
    "    # Görüntüyü gri tonlamaya çevirmek için kullanılır\n",
    "\n",
    "    img_gray = cv2.cvtColor(image, cv2.COLOR_BGR2GRAY)\n",
    "    # Gauss bulanıklığı uygulamak için kullanılır\n",
    "\n",
    "    img_blur = cv2.GaussianBlur(img_gray, (5, 5), 0)\n",
    "\n",
    "    # Canny kenar tespiti algoritması ile kenarları tespit etmek için kullanılır\n",
    "    img_canny = cv2.Canny(img_blur, 10, 70)\n",
    "    return img_canny\n",
    "\n",
    "# Kamera görüntüsü almak için cv2.VideoCapture kullanılır, 0 varsayılan kamera.\n",
    "cap = cv2.VideoCapture(0)\n",
    "\n",
    "# Sonsuz döngü içinde kareleri okumak için kullanılır\n",
    "while True:\n",
    "    ret, frame = cap.read()  # Kameradan bir kare almak için kullanılır\n",
    "\n",
    "    cv2.imshow(\"Real Time Picture\", sketch(frame))  \n",
    "# sketch fonksiyonu ile işlenmiş kareyi göstermek için kullanılır\n",
    "\n",
    "    if cv2.waitKey(1) == 13:  # 'Enter' tuşuna basıldığında döngüden çıkılır.\n",
    "        break\n",
    "\n",
    "cap.release()  # Kamera kaynağını serbest bırakmak için kullanılır\n",
    "cv2.destroyAllWindows()  \n",
    "\n"
   ]
  },
  {
   "cell_type": "markdown",
   "id": "2b921239",
   "metadata": {},
   "source": [
    "### 8. Kenar Tespit Teknikleri"
   ]
  },
  {
   "cell_type": "markdown",
   "id": "0c43218a",
   "metadata": {},
   "source": [
    "Kenar tespiti, görüntü işlemede nesnelerin veya bölgelerin sınırlarını belirlemek için kullanılan bir yöntemdir ve genellikle nesne algılama, görüntü segmentasyonu ve daha birçok görüntü analizi uygulamasında önemli bir rol oynar."
   ]
  },
  {
   "cell_type": "code",
   "execution_count": null,
   "id": "7149bedb",
   "metadata": {},
   "outputs": [],
   "source": [
    "Görüntü Yükleme ve Boyut Bilgisi Alma\n",
    "\n",
    "#Belirtilen dosya yolundan bir görüntü yüklemek için kullanılır\n",
    "image = cv2.imread(\"unnamed.png\")\n",
    "\n",
    "#Yüklenen görüntünün boyutlarını almak için kullanılır\n",
    "height, width = image.shape[:2]\n",
    "\n"
   ]
  },
  {
   "cell_type": "code",
   "execution_count": null,
   "id": "e6f240cd",
   "metadata": {},
   "outputs": [],
   "source": [
    "Sobel Kenar Tespiti\n",
    "\n",
    "#Sobel operatörü, görüntüdeki yatay (sobel_x) ve dikey (sobel_y) kenarları tespit etmek için kullanılır.\n",
    "\n",
    "#Çıktı görüntüsünün veri tipini belirtir. Burada 64-bit float kullanılıyor.\n",
    "sobel_x = cv2.Sobel(image, cv2.CV_64F, 0, 1, ksize=5)\n",
    "\n",
    "#İlk değer x yönündeki türevi, ikinci değer y yönündeki türevi belirtir. sobel_x yatay, \n",
    "sobel_y = cv2.Sobel(image, cv2.CV_64F, 1, 0, ksize=5)\n"
   ]
  },
  {
   "cell_type": "code",
   "execution_count": null,
   "id": "e8366181",
   "metadata": {},
   "outputs": [],
   "source": [
    "⁠Görüntülerin Gösterilmesi\n",
    "\n",
    "cv2.imshow(\"Rotated Image\", image)\n",
    "cv2.imshow(\"Sobel X\", sobel_x)\n",
    "cv2.imshow(\"Sobel Y\", sobel_y)\n",
    "\n",
    "#Belirtilen pencere adı altında bir görüntüyü ekranda gösterir. Bu kod bloğunda orijinal, Sobel X ve Sobel Y kenar tespitli görüntüler göstermek için kullanılır\n"
   ]
  },
  {
   "cell_type": "code",
   "execution_count": null,
   "id": "a9c212db",
   "metadata": {},
   "outputs": [],
   "source": [
    "Sobel X ve Y Birleşimi\n",
    "\n",
    "sobel_OR = cv2.bitwise_or(sobel_x, sobel_y)\n",
    "cv2.imshow(\"Sobel OR\", sobel_OR)\n",
    "\n",
    "#İki görüntü matrisinin bit düzeyinde OR işlemi yapar. Bu, yatay ve dikey kenarların birleştirilmesi ile sonuçlanır.\n"
   ]
  },
  {
   "cell_type": "code",
   "execution_count": null,
   "id": "57fd4e3d",
   "metadata": {},
   "outputs": [],
   "source": [
    "5.⁠ ⁠Laplacian Kenar Tespiti\n",
    "\n",
    "laplacian = cv2.Laplacian(image, cv2.CV_64F)\n",
    "\n",
    "#Laplacian operatörü, görüntünün ikinci türevine dayanarak kenarları tespit eder ve daha detaylı kenar bilgisi sağlamak için kullanılır\n"
   ]
  },
  {
   "cell_type": "code",
   "execution_count": null,
   "id": "fd2db164",
   "metadata": {},
   "outputs": [],
   "source": [
    "Canny Kenar Tespiti\n",
    "\n",
    "canny = cv2.Canny(image, 50, 120)\n",
    "cv2.imshow(\"Canny\", canny)\n",
    "\n",
    "#Canny kenar tespit algoritması, düşük ve yüksek eşik değerleri arasında kenarları tespit eder. Bu yöntem, kenar tespiti için en güçlü ve popüler yöntemlerden biridir.\n"
   ]
  },
  {
   "cell_type": "code",
   "execution_count": null,
   "id": "40431791",
   "metadata": {},
   "outputs": [],
   "source": [
    "⁠Kaynakların Temizlenmesi\n",
    "\n",
    "cv2.destroyAllWindows()\n",
    "\n",
    "#Açık olan tüm OpenCV pencerelerini kapatır.\n"
   ]
  }
 ],
 "metadata": {
  "kernelspec": {
   "display_name": "Python 3 (ipykernel)",
   "language": "python",
   "name": "python3"
  },
  "language_info": {
   "codemirror_mode": {
    "name": "ipython",
    "version": 3
   },
   "file_extension": ".py",
   "mimetype": "text/x-python",
   "name": "python",
   "nbconvert_exporter": "python",
   "pygments_lexer": "ipython3",
   "version": "3.11.5"
  }
 },
 "nbformat": 4,
 "nbformat_minor": 5
}
